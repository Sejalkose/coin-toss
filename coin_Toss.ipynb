{
  "nbformat": 4,
  "nbformat_minor": 0,
  "metadata": {
    "colab": {
      "provenance": [],
      "authorship_tag": "ABX9TyNkKaHkjZ8Ve+bThK4lr34s",
      "include_colab_link": true
    },
    "kernelspec": {
      "name": "python3",
      "display_name": "Python 3"
    },
    "language_info": {
      "name": "python"
    }
  },
  "cells": [
    {
      "cell_type": "markdown",
      "metadata": {
        "id": "view-in-github",
        "colab_type": "text"
      },
      "source": [
        "<a href=\"https://colab.research.google.com/github/Sejalkose/coin-toss/blob/main/coin_Toss.ipynb\" target=\"_parent\"><img src=\"https://colab.research.google.com/assets/colab-badge.svg\" alt=\"Open In Colab\"/></a>"
      ]
    },
    {
      "cell_type": "code",
      "execution_count": 3,
      "metadata": {
        "colab": {
          "base_uri": "https://localhost:8080/"
        },
        "id": "LUTA9yCcxGny",
        "outputId": "ef98456c-fdab-4600-dd20-0edfaf6eeaef"
      },
      "outputs": [
        {
          "output_type": "stream",
          "name": "stdout",
          "text": [
            "Tails\n"
          ]
        }
      ],
      "source": [
        "import random\n",
        "random_int = random.randint(0,1)\n",
        "if(random_int == 1):\n",
        "  print(\"Heads\")\n",
        "else:\n",
        "  print(\"Tails\")"
      ]
    },
    {
      "cell_type": "code",
      "source": [
        "import random\n",
        "random_int = random.randint(0,1)\n",
        "if(random_int == 1):\n",
        "  print(\"Heads\")\n",
        "else:\n",
        "  print(\"Tails\")"
      ],
      "metadata": {
        "colab": {
          "base_uri": "https://localhost:8080/"
        },
        "id": "EPN4Lc1wxa_A",
        "outputId": "898ffec8-097e-4a19-f19f-c9227429122d"
      },
      "execution_count": 4,
      "outputs": [
        {
          "output_type": "stream",
          "name": "stdout",
          "text": [
            "Heads\n"
          ]
        }
      ]
    }
  ]
}